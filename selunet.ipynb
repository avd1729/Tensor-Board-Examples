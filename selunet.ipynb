{
 "cells": [
  {
   "cell_type": "code",
   "execution_count": 1,
   "id": "7e3e2b3a",
   "metadata": {
    "execution": {
     "iopub.execute_input": "2023-11-03T06:24:34.795770Z",
     "iopub.status.busy": "2023-11-03T06:24:34.795331Z",
     "iopub.status.idle": "2023-11-03T06:24:51.139174Z",
     "shell.execute_reply": "2023-11-03T06:24:51.138108Z"
    },
    "papermill": {
     "duration": 16.356008,
     "end_time": "2023-11-03T06:24:51.141623",
     "exception": false,
     "start_time": "2023-11-03T06:24:34.785615",
     "status": "completed"
    },
    "tags": []
   },
   "outputs": [
    {
     "name": "stderr",
     "output_type": "stream",
     "text": [
      "/opt/conda/lib/python3.10/site-packages/tensorflow_io/python/ops/__init__.py:98: UserWarning: unable to load libtensorflow_io_plugins.so: unable to open file: libtensorflow_io_plugins.so, from paths: ['/opt/conda/lib/python3.10/site-packages/tensorflow_io/python/ops/libtensorflow_io_plugins.so']\n",
      "caused by: ['/opt/conda/lib/python3.10/site-packages/tensorflow_io/python/ops/libtensorflow_io_plugins.so: undefined symbol: _ZN3tsl6StatusC1EN10tensorflow5error4CodeESt17basic_string_viewIcSt11char_traitsIcEENS_14SourceLocationE']\n",
      "  warnings.warn(f\"unable to load libtensorflow_io_plugins.so: {e}\")\n",
      "/opt/conda/lib/python3.10/site-packages/tensorflow_io/python/ops/__init__.py:104: UserWarning: file system plugins are not loaded: unable to open file: libtensorflow_io.so, from paths: ['/opt/conda/lib/python3.10/site-packages/tensorflow_io/python/ops/libtensorflow_io.so']\n",
      "caused by: ['/opt/conda/lib/python3.10/site-packages/tensorflow_io/python/ops/libtensorflow_io.so: undefined symbol: _ZTVN10tensorflow13GcsFileSystemE']\n",
      "  warnings.warn(f\"file system plugins are not loaded: {e}\")\n"
     ]
    }
   ],
   "source": [
    "import numpy as np\n",
    "import pandas as pd\n",
    "import tensorflow as tf"
   ]
  },
  {
   "cell_type": "code",
   "execution_count": 2,
   "id": "3a5b290a",
   "metadata": {
    "execution": {
     "iopub.execute_input": "2023-11-03T06:24:51.157599Z",
     "iopub.status.busy": "2023-11-03T06:24:51.156976Z",
     "iopub.status.idle": "2023-11-03T06:24:52.029065Z",
     "shell.execute_reply": "2023-11-03T06:24:52.028048Z"
    },
    "papermill": {
     "duration": 0.882505,
     "end_time": "2023-11-03T06:24:52.031417",
     "exception": false,
     "start_time": "2023-11-03T06:24:51.148912",
     "status": "completed"
    },
    "tags": []
   },
   "outputs": [],
   "source": [
    "data = pd.read_csv(\"/kaggle/input/customer-churn-dataset/customer_churn_dataset-training-master.csv\")"
   ]
  },
  {
   "cell_type": "code",
   "execution_count": 3,
   "id": "cd92c1a3",
   "metadata": {
    "execution": {
     "iopub.execute_input": "2023-11-03T06:24:52.046849Z",
     "iopub.status.busy": "2023-11-03T06:24:52.046531Z",
     "iopub.status.idle": "2023-11-03T06:24:52.465072Z",
     "shell.execute_reply": "2023-11-03T06:24:52.463980Z"
    },
    "papermill": {
     "duration": 0.428793,
     "end_time": "2023-11-03T06:24:52.467353",
     "exception": false,
     "start_time": "2023-11-03T06:24:52.038560",
     "status": "completed"
    },
    "tags": []
   },
   "outputs": [
    {
     "name": "stdout",
     "output_type": "stream",
     "text": [
      "<class 'pandas.core.frame.DataFrame'>\n",
      "RangeIndex: 440833 entries, 0 to 440832\n",
      "Data columns (total 12 columns):\n",
      " #   Column             Non-Null Count   Dtype  \n",
      "---  ------             --------------   -----  \n",
      " 0   CustomerID         440832 non-null  float64\n",
      " 1   Age                440832 non-null  float64\n",
      " 2   Gender             440832 non-null  object \n",
      " 3   Tenure             440832 non-null  float64\n",
      " 4   Usage Frequency    440832 non-null  float64\n",
      " 5   Support Calls      440832 non-null  float64\n",
      " 6   Payment Delay      440832 non-null  float64\n",
      " 7   Subscription Type  440832 non-null  object \n",
      " 8   Contract Length    440832 non-null  object \n",
      " 9   Total Spend        440832 non-null  float64\n",
      " 10  Last Interaction   440832 non-null  float64\n",
      " 11  Churn              440832 non-null  float64\n",
      "dtypes: float64(9), object(3)\n",
      "memory usage: 40.4+ MB\n"
     ]
    }
   ],
   "source": [
    "data.info()"
   ]
  },
  {
   "cell_type": "code",
   "execution_count": 4,
   "id": "8cbec6c8",
   "metadata": {
    "execution": {
     "iopub.execute_input": "2023-11-03T06:24:52.483313Z",
     "iopub.status.busy": "2023-11-03T06:24:52.482751Z",
     "iopub.status.idle": "2023-11-03T06:24:52.866282Z",
     "shell.execute_reply": "2023-11-03T06:24:52.865376Z"
    },
    "papermill": {
     "duration": 0.393649,
     "end_time": "2023-11-03T06:24:52.868404",
     "exception": false,
     "start_time": "2023-11-03T06:24:52.474755",
     "status": "completed"
    },
    "tags": []
   },
   "outputs": [
    {
     "data": {
      "text/plain": [
       "CustomerID           1\n",
       "Age                  1\n",
       "Gender               1\n",
       "Tenure               1\n",
       "Usage Frequency      1\n",
       "Support Calls        1\n",
       "Payment Delay        1\n",
       "Subscription Type    1\n",
       "Contract Length      1\n",
       "Total Spend          1\n",
       "Last Interaction     1\n",
       "Churn                1\n",
       "dtype: int64"
      ]
     },
     "execution_count": 4,
     "metadata": {},
     "output_type": "execute_result"
    }
   ],
   "source": [
    "data.isnull().sum()"
   ]
  },
  {
   "cell_type": "code",
   "execution_count": 5,
   "id": "74c922f6",
   "metadata": {
    "execution": {
     "iopub.execute_input": "2023-11-03T06:24:52.884703Z",
     "iopub.status.busy": "2023-11-03T06:24:52.884417Z",
     "iopub.status.idle": "2023-11-03T06:24:52.910603Z",
     "shell.execute_reply": "2023-11-03T06:24:52.909676Z"
    },
    "papermill": {
     "duration": 0.036578,
     "end_time": "2023-11-03T06:24:52.912661",
     "exception": false,
     "start_time": "2023-11-03T06:24:52.876083",
     "status": "completed"
    },
    "tags": []
   },
   "outputs": [
    {
     "data": {
      "text/html": [
       "<div>\n",
       "<style scoped>\n",
       "    .dataframe tbody tr th:only-of-type {\n",
       "        vertical-align: middle;\n",
       "    }\n",
       "\n",
       "    .dataframe tbody tr th {\n",
       "        vertical-align: top;\n",
       "    }\n",
       "\n",
       "    .dataframe thead th {\n",
       "        text-align: right;\n",
       "    }\n",
       "</style>\n",
       "<table border=\"1\" class=\"dataframe\">\n",
       "  <thead>\n",
       "    <tr style=\"text-align: right;\">\n",
       "      <th></th>\n",
       "      <th>CustomerID</th>\n",
       "      <th>Age</th>\n",
       "      <th>Gender</th>\n",
       "      <th>Tenure</th>\n",
       "      <th>Usage Frequency</th>\n",
       "      <th>Support Calls</th>\n",
       "      <th>Payment Delay</th>\n",
       "      <th>Subscription Type</th>\n",
       "      <th>Contract Length</th>\n",
       "      <th>Total Spend</th>\n",
       "      <th>Last Interaction</th>\n",
       "      <th>Churn</th>\n",
       "    </tr>\n",
       "  </thead>\n",
       "  <tbody>\n",
       "    <tr>\n",
       "      <th>0</th>\n",
       "      <td>2.0</td>\n",
       "      <td>30.0</td>\n",
       "      <td>Female</td>\n",
       "      <td>39.0</td>\n",
       "      <td>14.0</td>\n",
       "      <td>5.0</td>\n",
       "      <td>18.0</td>\n",
       "      <td>Standard</td>\n",
       "      <td>Annual</td>\n",
       "      <td>932.0</td>\n",
       "      <td>17.0</td>\n",
       "      <td>1.0</td>\n",
       "    </tr>\n",
       "    <tr>\n",
       "      <th>1</th>\n",
       "      <td>3.0</td>\n",
       "      <td>65.0</td>\n",
       "      <td>Female</td>\n",
       "      <td>49.0</td>\n",
       "      <td>1.0</td>\n",
       "      <td>10.0</td>\n",
       "      <td>8.0</td>\n",
       "      <td>Basic</td>\n",
       "      <td>Monthly</td>\n",
       "      <td>557.0</td>\n",
       "      <td>6.0</td>\n",
       "      <td>1.0</td>\n",
       "    </tr>\n",
       "    <tr>\n",
       "      <th>2</th>\n",
       "      <td>4.0</td>\n",
       "      <td>55.0</td>\n",
       "      <td>Female</td>\n",
       "      <td>14.0</td>\n",
       "      <td>4.0</td>\n",
       "      <td>6.0</td>\n",
       "      <td>18.0</td>\n",
       "      <td>Basic</td>\n",
       "      <td>Quarterly</td>\n",
       "      <td>185.0</td>\n",
       "      <td>3.0</td>\n",
       "      <td>1.0</td>\n",
       "    </tr>\n",
       "    <tr>\n",
       "      <th>3</th>\n",
       "      <td>5.0</td>\n",
       "      <td>58.0</td>\n",
       "      <td>Male</td>\n",
       "      <td>38.0</td>\n",
       "      <td>21.0</td>\n",
       "      <td>7.0</td>\n",
       "      <td>7.0</td>\n",
       "      <td>Standard</td>\n",
       "      <td>Monthly</td>\n",
       "      <td>396.0</td>\n",
       "      <td>29.0</td>\n",
       "      <td>1.0</td>\n",
       "    </tr>\n",
       "    <tr>\n",
       "      <th>4</th>\n",
       "      <td>6.0</td>\n",
       "      <td>23.0</td>\n",
       "      <td>Male</td>\n",
       "      <td>32.0</td>\n",
       "      <td>20.0</td>\n",
       "      <td>5.0</td>\n",
       "      <td>8.0</td>\n",
       "      <td>Basic</td>\n",
       "      <td>Monthly</td>\n",
       "      <td>617.0</td>\n",
       "      <td>20.0</td>\n",
       "      <td>1.0</td>\n",
       "    </tr>\n",
       "  </tbody>\n",
       "</table>\n",
       "</div>"
      ],
      "text/plain": [
       "   CustomerID   Age  Gender  Tenure  Usage Frequency  Support Calls  \\\n",
       "0         2.0  30.0  Female    39.0             14.0            5.0   \n",
       "1         3.0  65.0  Female    49.0              1.0           10.0   \n",
       "2         4.0  55.0  Female    14.0              4.0            6.0   \n",
       "3         5.0  58.0    Male    38.0             21.0            7.0   \n",
       "4         6.0  23.0    Male    32.0             20.0            5.0   \n",
       "\n",
       "   Payment Delay Subscription Type Contract Length  Total Spend  \\\n",
       "0           18.0          Standard          Annual        932.0   \n",
       "1            8.0             Basic         Monthly        557.0   \n",
       "2           18.0             Basic       Quarterly        185.0   \n",
       "3            7.0          Standard         Monthly        396.0   \n",
       "4            8.0             Basic         Monthly        617.0   \n",
       "\n",
       "   Last Interaction  Churn  \n",
       "0              17.0    1.0  \n",
       "1               6.0    1.0  \n",
       "2               3.0    1.0  \n",
       "3              29.0    1.0  \n",
       "4              20.0    1.0  "
      ]
     },
     "execution_count": 5,
     "metadata": {},
     "output_type": "execute_result"
    }
   ],
   "source": [
    "data.head()"
   ]
  },
  {
   "cell_type": "code",
   "execution_count": 6,
   "id": "1d0ff631",
   "metadata": {
    "execution": {
     "iopub.execute_input": "2023-11-03T06:24:52.928802Z",
     "iopub.status.busy": "2023-11-03T06:24:52.928493Z",
     "iopub.status.idle": "2023-11-03T06:24:52.940560Z",
     "shell.execute_reply": "2023-11-03T06:24:52.939827Z"
    },
    "papermill": {
     "duration": 0.022445,
     "end_time": "2023-11-03T06:24:52.942480",
     "exception": false,
     "start_time": "2023-11-03T06:24:52.920035",
     "status": "completed"
    },
    "tags": []
   },
   "outputs": [
    {
     "data": {
      "text/plain": [
       "1.0    249999\n",
       "0.0    190833\n",
       "Name: Churn, dtype: int64"
      ]
     },
     "execution_count": 6,
     "metadata": {},
     "output_type": "execute_result"
    }
   ],
   "source": [
    "data['Churn'].value_counts()"
   ]
  },
  {
   "cell_type": "code",
   "execution_count": 7,
   "id": "3ba953c1",
   "metadata": {
    "execution": {
     "iopub.execute_input": "2023-11-03T06:24:52.958390Z",
     "iopub.status.busy": "2023-11-03T06:24:52.958101Z",
     "iopub.status.idle": "2023-11-03T06:24:53.367800Z",
     "shell.execute_reply": "2023-11-03T06:24:53.366206Z"
    },
    "papermill": {
     "duration": 0.421483,
     "end_time": "2023-11-03T06:24:53.371402",
     "exception": false,
     "start_time": "2023-11-03T06:24:52.949919",
     "status": "completed"
    },
    "tags": []
   },
   "outputs": [],
   "source": [
    "data = data.dropna()"
   ]
  },
  {
   "cell_type": "code",
   "execution_count": 8,
   "id": "c1f42edb",
   "metadata": {
    "execution": {
     "iopub.execute_input": "2023-11-03T06:24:53.395760Z",
     "iopub.status.busy": "2023-11-03T06:24:53.394754Z",
     "iopub.status.idle": "2023-11-03T06:24:53.780518Z",
     "shell.execute_reply": "2023-11-03T06:24:53.779345Z"
    },
    "papermill": {
     "duration": 0.399572,
     "end_time": "2023-11-03T06:24:53.782662",
     "exception": false,
     "start_time": "2023-11-03T06:24:53.383090",
     "status": "completed"
    },
    "tags": []
   },
   "outputs": [
    {
     "name": "stdout",
     "output_type": "stream",
     "text": [
      "<class 'pandas.core.frame.DataFrame'>\n",
      "Int64Index: 440832 entries, 0 to 440832\n",
      "Data columns (total 12 columns):\n",
      " #   Column             Non-Null Count   Dtype  \n",
      "---  ------             --------------   -----  \n",
      " 0   CustomerID         440832 non-null  float64\n",
      " 1   Age                440832 non-null  float64\n",
      " 2   Gender             440832 non-null  object \n",
      " 3   Tenure             440832 non-null  float64\n",
      " 4   Usage Frequency    440832 non-null  float64\n",
      " 5   Support Calls      440832 non-null  float64\n",
      " 6   Payment Delay      440832 non-null  float64\n",
      " 7   Subscription Type  440832 non-null  object \n",
      " 8   Contract Length    440832 non-null  object \n",
      " 9   Total Spend        440832 non-null  float64\n",
      " 10  Last Interaction   440832 non-null  float64\n",
      " 11  Churn              440832 non-null  float64\n",
      "dtypes: float64(9), object(3)\n",
      "memory usage: 43.7+ MB\n"
     ]
    }
   ],
   "source": [
    "data.info()"
   ]
  },
  {
   "cell_type": "code",
   "execution_count": 9,
   "id": "051544bb",
   "metadata": {
    "execution": {
     "iopub.execute_input": "2023-11-03T06:24:53.798968Z",
     "iopub.status.busy": "2023-11-03T06:24:53.798672Z",
     "iopub.status.idle": "2023-11-03T06:24:53.804733Z",
     "shell.execute_reply": "2023-11-03T06:24:53.803857Z"
    },
    "papermill": {
     "duration": 0.016341,
     "end_time": "2023-11-03T06:24:53.806728",
     "exception": false,
     "start_time": "2023-11-03T06:24:53.790387",
     "status": "completed"
    },
    "tags": []
   },
   "outputs": [
    {
     "data": {
      "text/plain": [
       "Index(['CustomerID', 'Age', 'Gender', 'Tenure', 'Usage Frequency',\n",
       "       'Support Calls', 'Payment Delay', 'Subscription Type',\n",
       "       'Contract Length', 'Total Spend', 'Last Interaction', 'Churn'],\n",
       "      dtype='object')"
      ]
     },
     "execution_count": 9,
     "metadata": {},
     "output_type": "execute_result"
    }
   ],
   "source": [
    "data.columns"
   ]
  },
  {
   "cell_type": "code",
   "execution_count": 10,
   "id": "77ab683c",
   "metadata": {
    "execution": {
     "iopub.execute_input": "2023-11-03T06:24:53.822767Z",
     "iopub.status.busy": "2023-11-03T06:24:53.822468Z",
     "iopub.status.idle": "2023-11-03T06:24:55.630515Z",
     "shell.execute_reply": "2023-11-03T06:24:55.629549Z"
    },
    "papermill": {
     "duration": 1.818722,
     "end_time": "2023-11-03T06:24:55.632947",
     "exception": false,
     "start_time": "2023-11-03T06:24:53.814225",
     "status": "completed"
    },
    "tags": []
   },
   "outputs": [],
   "source": [
    "from sklearn.preprocessing import OrdinalEncoder\n",
    "encoder = OrdinalEncoder()\n",
    "data[['Gender','Subscription Type','Contract Length']] = encoder.fit_transform(data[['Gender','Subscription Type','Contract Length']])"
   ]
  },
  {
   "cell_type": "code",
   "execution_count": 11,
   "id": "ec22bbd8",
   "metadata": {
    "execution": {
     "iopub.execute_input": "2023-11-03T06:24:55.650180Z",
     "iopub.status.busy": "2023-11-03T06:24:55.649850Z",
     "iopub.status.idle": "2023-11-03T06:24:55.667644Z",
     "shell.execute_reply": "2023-11-03T06:24:55.666591Z"
    },
    "papermill": {
     "duration": 0.028839,
     "end_time": "2023-11-03T06:24:55.669674",
     "exception": false,
     "start_time": "2023-11-03T06:24:55.640835",
     "status": "completed"
    },
    "tags": []
   },
   "outputs": [
    {
     "name": "stdout",
     "output_type": "stream",
     "text": [
      "<class 'pandas.core.frame.DataFrame'>\n",
      "Int64Index: 440832 entries, 0 to 440832\n",
      "Data columns (total 12 columns):\n",
      " #   Column             Non-Null Count   Dtype  \n",
      "---  ------             --------------   -----  \n",
      " 0   CustomerID         440832 non-null  float64\n",
      " 1   Age                440832 non-null  float64\n",
      " 2   Gender             440832 non-null  float64\n",
      " 3   Tenure             440832 non-null  float64\n",
      " 4   Usage Frequency    440832 non-null  float64\n",
      " 5   Support Calls      440832 non-null  float64\n",
      " 6   Payment Delay      440832 non-null  float64\n",
      " 7   Subscription Type  440832 non-null  float64\n",
      " 8   Contract Length    440832 non-null  float64\n",
      " 9   Total Spend        440832 non-null  float64\n",
      " 10  Last Interaction   440832 non-null  float64\n",
      " 11  Churn              440832 non-null  float64\n",
      "dtypes: float64(12)\n",
      "memory usage: 43.7 MB\n"
     ]
    }
   ],
   "source": [
    "data.info()"
   ]
  },
  {
   "cell_type": "code",
   "execution_count": 12,
   "id": "3f452fb7",
   "metadata": {
    "execution": {
     "iopub.execute_input": "2023-11-03T06:24:55.686543Z",
     "iopub.status.busy": "2023-11-03T06:24:55.686270Z",
     "iopub.status.idle": "2023-11-03T06:24:55.701427Z",
     "shell.execute_reply": "2023-11-03T06:24:55.700557Z"
    },
    "papermill": {
     "duration": 0.026119,
     "end_time": "2023-11-03T06:24:55.703642",
     "exception": false,
     "start_time": "2023-11-03T06:24:55.677523",
     "status": "completed"
    },
    "tags": []
   },
   "outputs": [],
   "source": [
    "data = data.drop(['CustomerID'],axis=1)"
   ]
  },
  {
   "cell_type": "code",
   "execution_count": 13,
   "id": "c3cdbaad",
   "metadata": {
    "execution": {
     "iopub.execute_input": "2023-11-03T06:24:55.720880Z",
     "iopub.status.busy": "2023-11-03T06:24:55.720395Z",
     "iopub.status.idle": "2023-11-03T06:24:55.732256Z",
     "shell.execute_reply": "2023-11-03T06:24:55.731169Z"
    },
    "papermill": {
     "duration": 0.022626,
     "end_time": "2023-11-03T06:24:55.734293",
     "exception": false,
     "start_time": "2023-11-03T06:24:55.711667",
     "status": "completed"
    },
    "tags": []
   },
   "outputs": [],
   "source": [
    "X = data.drop(['Churn'],axis=1)\n",
    "y = data['Churn']"
   ]
  },
  {
   "cell_type": "code",
   "execution_count": 14,
   "id": "24f65abf",
   "metadata": {
    "execution": {
     "iopub.execute_input": "2023-11-03T06:24:55.751172Z",
     "iopub.status.busy": "2023-11-03T06:24:55.750869Z",
     "iopub.status.idle": "2023-11-03T06:24:55.977892Z",
     "shell.execute_reply": "2023-11-03T06:24:55.977042Z"
    },
    "papermill": {
     "duration": 0.237919,
     "end_time": "2023-11-03T06:24:55.980157",
     "exception": false,
     "start_time": "2023-11-03T06:24:55.742238",
     "status": "completed"
    },
    "tags": []
   },
   "outputs": [],
   "source": [
    "from sklearn.model_selection import train_test_split\n",
    "X_train , X_valid , y_train ,y_valid =  train_test_split(X , y , test_size=0.1 , random_state=42)"
   ]
  },
  {
   "cell_type": "code",
   "execution_count": 15,
   "id": "4d5cb44e",
   "metadata": {
    "execution": {
     "iopub.execute_input": "2023-11-03T06:24:55.997774Z",
     "iopub.status.busy": "2023-11-03T06:24:55.997015Z",
     "iopub.status.idle": "2023-11-03T06:24:56.002301Z",
     "shell.execute_reply": "2023-11-03T06:24:56.001425Z"
    },
    "papermill": {
     "duration": 0.015996,
     "end_time": "2023-11-03T06:24:56.004354",
     "exception": false,
     "start_time": "2023-11-03T06:24:55.988358",
     "status": "completed"
    },
    "tags": []
   },
   "outputs": [],
   "source": [
    "from functools import partial\n",
    "\n",
    "RDense = partial(tf.keras.layers.Dense , activation=\"selu\" , kernel_initializer = \"lecun_normal\")\n",
    "Dropout = partial(tf.keras.layers.AlphaDropout)\n",
    "Normalization = partial(tf.keras.layers.BatchNormalization)\n",
    "output =  partial(tf.keras.layers.Dense , activation=\"softmax\")"
   ]
  },
  {
   "cell_type": "code",
   "execution_count": 16,
   "id": "11882514",
   "metadata": {
    "execution": {
     "iopub.execute_input": "2023-11-03T06:24:56.021163Z",
     "iopub.status.busy": "2023-11-03T06:24:56.020678Z",
     "iopub.status.idle": "2023-11-03T06:24:56.024949Z",
     "shell.execute_reply": "2023-11-03T06:24:56.024004Z"
    },
    "papermill": {
     "duration": 0.014712,
     "end_time": "2023-11-03T06:24:56.026918",
     "exception": false,
     "start_time": "2023-11-03T06:24:56.012206",
     "status": "completed"
    },
    "tags": []
   },
   "outputs": [],
   "source": [
    "early_stopping = tf.keras.callbacks.EarlyStopping(\n",
    "min_delta = 0.001 , patience = 20 , restore_best_weights = True )"
   ]
  },
  {
   "cell_type": "code",
   "execution_count": 17,
   "id": "83e9bf28",
   "metadata": {
    "execution": {
     "iopub.execute_input": "2023-11-03T06:24:56.043883Z",
     "iopub.status.busy": "2023-11-03T06:24:56.043623Z",
     "iopub.status.idle": "2023-11-03T06:25:01.609921Z",
     "shell.execute_reply": "2023-11-03T06:25:01.608910Z"
    },
    "papermill": {
     "duration": 5.577517,
     "end_time": "2023-11-03T06:25:01.612377",
     "exception": false,
     "start_time": "2023-11-03T06:24:56.034860",
     "status": "completed"
    },
    "tags": []
   },
   "outputs": [],
   "source": [
    "model = tf.keras.Sequential([\n",
    "    tf.keras.layers.Flatten(),\n",
    "    Normalization(),\n",
    "    Dropout(rate=0.2),\n",
    "    RDense(100),\n",
    "    Normalization(),\n",
    "    Dropout(rate=0.2),\n",
    "    RDense(50),\n",
    "    Normalization(),\n",
    "    Dropout(rate=0.2),\n",
    "    output(2)\n",
    "])"
   ]
  },
  {
   "cell_type": "code",
   "execution_count": 18,
   "id": "4fcdc315",
   "metadata": {
    "execution": {
     "iopub.execute_input": "2023-11-03T06:25:01.630195Z",
     "iopub.status.busy": "2023-11-03T06:25:01.629848Z",
     "iopub.status.idle": "2023-11-03T06:25:01.657512Z",
     "shell.execute_reply": "2023-11-03T06:25:01.656759Z"
    },
    "papermill": {
     "duration": 0.038895,
     "end_time": "2023-11-03T06:25:01.659431",
     "exception": false,
     "start_time": "2023-11-03T06:25:01.620536",
     "status": "completed"
    },
    "tags": []
   },
   "outputs": [],
   "source": [
    "model.compile(loss=\"sparse_categorical_crossentropy\" , optimizer=tf.keras.optimizers.SGD(learning_rate=0.01 , momentum = 0.9) , metrics=[\"accuracy\"])"
   ]
  },
  {
   "cell_type": "code",
   "execution_count": 19,
   "id": "59262d15",
   "metadata": {
    "execution": {
     "iopub.execute_input": "2023-11-03T06:25:01.676903Z",
     "iopub.status.busy": "2023-11-03T06:25:01.676124Z",
     "iopub.status.idle": "2023-11-03T06:34:34.388197Z",
     "shell.execute_reply": "2023-11-03T06:34:34.387048Z"
    },
    "papermill": {
     "duration": 572.72503,
     "end_time": "2023-11-03T06:34:34.392352",
     "exception": false,
     "start_time": "2023-11-03T06:25:01.667322",
     "status": "completed"
    },
    "tags": []
   },
   "outputs": [
    {
     "name": "stdout",
     "output_type": "stream",
     "text": [
      "Epoch 1/10\n",
      "12399/12399 [==============================] - 65s 5ms/step - loss: 0.3605 - accuracy: 0.8361 - val_loss: 0.3113 - val_accuracy: 0.9127\n",
      "Epoch 2/10\n",
      "12399/12399 [==============================] - 57s 5ms/step - loss: 0.3128 - accuracy: 0.8647 - val_loss: 0.2824 - val_accuracy: 0.9213\n",
      "Epoch 3/10\n",
      "12399/12399 [==============================] - 57s 5ms/step - loss: 0.3027 - accuracy: 0.8710 - val_loss: 0.2698 - val_accuracy: 0.9288\n",
      "Epoch 4/10\n",
      "12399/12399 [==============================] - 57s 5ms/step - loss: 0.2961 - accuracy: 0.8741 - val_loss: 0.2623 - val_accuracy: 0.9261\n",
      "Epoch 5/10\n",
      "12399/12399 [==============================] - 56s 5ms/step - loss: 0.2943 - accuracy: 0.8748 - val_loss: 0.2713 - val_accuracy: 0.9296\n",
      "Epoch 6/10\n",
      "12399/12399 [==============================] - 57s 5ms/step - loss: 0.2934 - accuracy: 0.8757 - val_loss: 0.3069 - val_accuracy: 0.9293\n",
      "Epoch 7/10\n",
      "12399/12399 [==============================] - 56s 5ms/step - loss: 0.2910 - accuracy: 0.8765 - val_loss: 0.2609 - val_accuracy: 0.9303\n",
      "Epoch 8/10\n",
      "12399/12399 [==============================] - 56s 5ms/step - loss: 0.2890 - accuracy: 0.8782 - val_loss: 0.2578 - val_accuracy: 0.9315\n",
      "Epoch 9/10\n",
      "12399/12399 [==============================] - 57s 5ms/step - loss: 0.2884 - accuracy: 0.8778 - val_loss: 0.3008 - val_accuracy: 0.9303\n",
      "Epoch 10/10\n",
      "12399/12399 [==============================] - 56s 5ms/step - loss: 0.2876 - accuracy: 0.8786 - val_loss: 0.2666 - val_accuracy: 0.9295\n"
     ]
    }
   ],
   "source": [
    "history = model.fit(X_train , y_train , epochs = 10 , validation_data = (X_valid , y_valid) , callbacks=[early_stopping])"
   ]
  },
  {
   "cell_type": "code",
   "execution_count": 20,
   "id": "ae469d34",
   "metadata": {
    "execution": {
     "iopub.execute_input": "2023-11-03T06:34:36.044975Z",
     "iopub.status.busy": "2023-11-03T06:34:36.044609Z",
     "iopub.status.idle": "2023-11-03T06:34:36.190632Z",
     "shell.execute_reply": "2023-11-03T06:34:36.189681Z"
    },
    "papermill": {
     "duration": 1.008054,
     "end_time": "2023-11-03T06:34:36.192946",
     "exception": false,
     "start_time": "2023-11-03T06:34:35.184892",
     "status": "completed"
    },
    "tags": []
   },
   "outputs": [],
   "source": [
    "test = pd.read_csv(\"/kaggle/input/customer-churn-dataset/customer_churn_dataset-testing-master.csv\")"
   ]
  },
  {
   "cell_type": "code",
   "execution_count": 21,
   "id": "1862612d",
   "metadata": {
    "execution": {
     "iopub.execute_input": "2023-11-03T06:34:37.801833Z",
     "iopub.status.busy": "2023-11-03T06:34:37.801454Z",
     "iopub.status.idle": "2023-11-03T06:34:37.866739Z",
     "shell.execute_reply": "2023-11-03T06:34:37.865533Z"
    },
    "papermill": {
     "duration": 0.876741,
     "end_time": "2023-11-03T06:34:37.868650",
     "exception": false,
     "start_time": "2023-11-03T06:34:36.991909",
     "status": "completed"
    },
    "tags": []
   },
   "outputs": [
    {
     "name": "stdout",
     "output_type": "stream",
     "text": [
      "<class 'pandas.core.frame.DataFrame'>\n",
      "RangeIndex: 64374 entries, 0 to 64373\n",
      "Data columns (total 12 columns):\n",
      " #   Column             Non-Null Count  Dtype \n",
      "---  ------             --------------  ----- \n",
      " 0   CustomerID         64374 non-null  int64 \n",
      " 1   Age                64374 non-null  int64 \n",
      " 2   Gender             64374 non-null  object\n",
      " 3   Tenure             64374 non-null  int64 \n",
      " 4   Usage Frequency    64374 non-null  int64 \n",
      " 5   Support Calls      64374 non-null  int64 \n",
      " 6   Payment Delay      64374 non-null  int64 \n",
      " 7   Subscription Type  64374 non-null  object\n",
      " 8   Contract Length    64374 non-null  object\n",
      " 9   Total Spend        64374 non-null  int64 \n",
      " 10  Last Interaction   64374 non-null  int64 \n",
      " 11  Churn              64374 non-null  int64 \n",
      "dtypes: int64(9), object(3)\n",
      "memory usage: 5.9+ MB\n"
     ]
    }
   ],
   "source": [
    "test.info()"
   ]
  },
  {
   "cell_type": "code",
   "execution_count": 22,
   "id": "970c2440",
   "metadata": {
    "execution": {
     "iopub.execute_input": "2023-11-03T06:34:39.599144Z",
     "iopub.status.busy": "2023-11-03T06:34:39.598804Z",
     "iopub.status.idle": "2023-11-03T06:34:39.671671Z",
     "shell.execute_reply": "2023-11-03T06:34:39.670901Z"
    },
    "papermill": {
     "duration": 0.903077,
     "end_time": "2023-11-03T06:34:39.673815",
     "exception": false,
     "start_time": "2023-11-03T06:34:38.770738",
     "status": "completed"
    },
    "tags": []
   },
   "outputs": [],
   "source": [
    "encoder = OrdinalEncoder()\n",
    "test[['Gender','Subscription Type','Contract Length']] = encoder.fit_transform(test[['Gender','Subscription Type','Contract Length']])"
   ]
  },
  {
   "cell_type": "code",
   "execution_count": 23,
   "id": "695485fe",
   "metadata": {
    "execution": {
     "iopub.execute_input": "2023-11-03T06:34:41.396961Z",
     "iopub.status.busy": "2023-11-03T06:34:41.396587Z",
     "iopub.status.idle": "2023-11-03T06:34:41.405946Z",
     "shell.execute_reply": "2023-11-03T06:34:41.404954Z"
    },
    "papermill": {
     "duration": 0.911624,
     "end_time": "2023-11-03T06:34:41.407876",
     "exception": false,
     "start_time": "2023-11-03T06:34:40.496252",
     "status": "completed"
    },
    "tags": []
   },
   "outputs": [],
   "source": [
    "test = test.drop(['CustomerID'],axis=1)"
   ]
  },
  {
   "cell_type": "code",
   "execution_count": 24,
   "id": "053f711f",
   "metadata": {
    "execution": {
     "iopub.execute_input": "2023-11-03T06:34:43.074337Z",
     "iopub.status.busy": "2023-11-03T06:34:43.073650Z",
     "iopub.status.idle": "2023-11-03T06:34:43.082686Z",
     "shell.execute_reply": "2023-11-03T06:34:43.081576Z"
    },
    "papermill": {
     "duration": 0.866978,
     "end_time": "2023-11-03T06:34:43.084791",
     "exception": false,
     "start_time": "2023-11-03T06:34:42.217813",
     "status": "completed"
    },
    "tags": []
   },
   "outputs": [],
   "source": [
    "X = test.drop(['Churn'],axis=1)\n",
    "y = test['Churn']"
   ]
  },
  {
   "cell_type": "code",
   "execution_count": 25,
   "id": "fc772f1f",
   "metadata": {
    "execution": {
     "iopub.execute_input": "2023-11-03T06:34:44.734124Z",
     "iopub.status.busy": "2023-11-03T06:34:44.733300Z",
     "iopub.status.idle": "2023-11-03T06:34:49.578184Z",
     "shell.execute_reply": "2023-11-03T06:34:49.577343Z"
    },
    "papermill": {
     "duration": 5.663723,
     "end_time": "2023-11-03T06:34:49.580087",
     "exception": false,
     "start_time": "2023-11-03T06:34:43.916364",
     "status": "completed"
    },
    "tags": []
   },
   "outputs": [
    {
     "name": "stdout",
     "output_type": "stream",
     "text": [
      "2012/2012 [==============================] - 5s 2ms/step - loss: 5.5384 - accuracy: 0.5668\n"
     ]
    },
    {
     "data": {
      "text/plain": [
       "[5.5383734703063965, 0.5668126940727234]"
      ]
     },
     "execution_count": 25,
     "metadata": {},
     "output_type": "execute_result"
    }
   ],
   "source": [
    "model.evaluate(X , y)"
   ]
  }
 ],
 "metadata": {
  "kernelspec": {
   "display_name": "Python 3",
   "language": "python",
   "name": "python3"
  },
  "language_info": {
   "codemirror_mode": {
    "name": "ipython",
    "version": 3
   },
   "file_extension": ".py",
   "mimetype": "text/x-python",
   "name": "python",
   "nbconvert_exporter": "python",
   "pygments_lexer": "ipython3",
   "version": "3.10.10"
  },
  "papermill": {
   "default_parameters": {},
   "duration": 633.111592,
   "end_time": "2023-11-03T06:34:53.427767",
   "environment_variables": {},
   "exception": null,
   "input_path": "__notebook__.ipynb",
   "output_path": "__notebook__.ipynb",
   "parameters": {},
   "start_time": "2023-11-03T06:24:20.316175",
   "version": "2.4.0"
  }
 },
 "nbformat": 4,
 "nbformat_minor": 5
}
